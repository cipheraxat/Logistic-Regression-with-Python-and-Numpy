{
 "cells": [
  {
   "cell_type": "markdown",
   "metadata": {},
   "source": [
    "![Rhyme](https://rhyme.com/assets/img/logo-dark.png)\n",
    "\n",
    "# Deep Learning Fundamentals - Logistic Regression\n",
    "\n",
    "# Task 1: Introduction"
   ]
  },
  {
   "cell_type": "code",
   "execution_count": 1,
   "metadata": {},
   "outputs": [
    {
     "name": "stdout",
     "output_type": "stream",
     "text": [
      "Libraries imported\n"
     ]
    }
   ],
   "source": [
    "import random\n",
    "import numpy as np\n",
    "import warnings\n",
    "import helpers.plt, helpers.dataset\n",
    "from matplotlib import pyplot as plt\n",
    "%matplotlib inline\n",
    "warnings.filterwarnings('ignore')\n",
    "\n",
    "print('Libraries imported')"
   ]
  },
  {
   "cell_type": "markdown",
   "metadata": {},
   "source": [
    "# Task 2: Hyperparameters"
   ]
  },
  {
   "cell_type": "code",
   "execution_count": 2,
   "metadata": {
    "tags": [
     "parameters"
    ]
   },
   "outputs": [],
   "source": [
    "lr = 0.3\n",
    "batch_size = 300\n",
    "iterations = 40"
   ]
  },
  {
   "cell_type": "markdown",
   "metadata": {},
   "source": [
    "# Task 3: Dataset"
   ]
  },
  {
   "cell_type": "code",
   "execution_count": 5,
   "metadata": {},
   "outputs": [
    {
     "name": "stdout",
     "output_type": "stream",
     "text": [
      "Loading data..\n",
      "Done.\n"
     ]
    }
   ],
   "source": [
    "(X_train, Y_train), (X_test, Y_test) = helpers.dataset.get_data()"
   ]
  },
  {
   "cell_type": "code",
   "execution_count": 6,
   "metadata": {},
   "outputs": [
    {
     "name": "stdout",
     "output_type": "stream",
     "text": [
      "Shape of X_train: (12665, 28, 28)\n",
      "Shape of Y_train: (12665,)\n",
      "Shape of X_test: (2115, 28, 28)\n",
      "Shape of Y_test: (2115,)\n"
     ]
    }
   ],
   "source": [
    "print('Shape of X_train:', X_train.shape)\n",
    "print('Shape of Y_train:', Y_train.shape)\n",
    "print('Shape of X_test:', X_test.shape)\n",
    "print('Shape of Y_test:', Y_test.shape)"
   ]
  },
  {
   "cell_type": "code",
   "execution_count": 7,
   "metadata": {},
   "outputs": [
    {
     "data": {
      "image/png": "[encoded data removed]",
      "text/plain": [
       "<Figure size 432x288 with 1 Axes>"
      ]
     },
     "metadata": {},
     "output_type": "display_data"
    }
   ],
   "source": [
    "helpers.plt.show_example(X_train[0], Y_train[0])"
   ]
  },
  {
   "cell_type": "code",
   "execution_count": 8,
   "metadata": {},
   "outputs": [
    {
     "data": {
      "image/png": "[encoded data removed]",
      "text/plain": [
       "<Figure size 432x288 with 1 Axes>"
      ]
     },
     "metadata": {},
     "output_type": "display_data"
    }
   ],
   "source": [
    "helpers.plt.show_example(X_train[-1], Y_train[-1])"
   ]
  },
  {
   "cell_type": "code",
   "execution_count": 9,
   "metadata": {},
   "outputs": [
    {
     "data": {
      "image/png": "[encoded data removed]",
      "text/plain": [
       "<Figure size 432x288 with 1 Axes>"
      ]
     },
     "metadata": {},
     "output_type": "display_data"
    }
   ],
   "source": [
    "helpers.plt.show_example(X_train[6222], Y_train[6222])"
   ]
  },
  {
   "cell_type": "markdown",
   "metadata": {},
   "source": [
    "# Task 4: A Mini Batch of Examples"
   ]
  },
  {
   "cell_type": "code",
   "execution_count": 10,
   "metadata": {},
   "outputs": [
    {
     "name": "stdout",
     "output_type": "stream",
     "text": [
      "X_batch shape (1, 784)\n"
     ]
    },
    {
     "data": {
      "image/png": "[encoded data removed]",
      "text/plain": [
       "<Figure size 432x288 with 1 Axes>"
      ]
     },
     "metadata": {},
     "output_type": "display_data"
    }
   ],
   "source": [
    "X_batch, Y_batch = helpers.dataset.get_random_batch(X_train, Y_train, 1)\n",
    "print(\"X_batch shape\", X_batch.shape)\n",
    "helpers.plt.show_example(X_batch[0], Y_batch[0])"
   ]
  },
  {
   "cell_type": "code",
   "execution_count": 11,
   "metadata": {},
   "outputs": [
    {
     "data": {
      "image/png": "[encoded data removed]",
      "text/plain": [
       "<Figure size 432x288 with 1 Axes>"
      ]
     },
     "metadata": {},
     "output_type": "display_data"
    }
   ],
   "source": [
    "X_batch, Y_batch = helpers.dataset.get_random_batch(X_test, Y_test, 1)\n",
    "helpers.plt.show_example(X_batch[0], Y_batch[0])"
   ]
  },
  {
   "cell_type": "code",
   "execution_count": 12,
   "metadata": {},
   "outputs": [
    {
     "data": {
      "image/png": "[encoded data removed]",
      "text/plain": [
       "<Figure size 576x288 with 10 Axes>"
      ]
     },
     "metadata": {},
     "output_type": "display_data"
    }
   ],
   "source": [
    "X_batch, Y_batch = helpers.dataset.get_random_batch(X_train, Y_train, 10)\n",
    "helpers.plt.show_ten_examples(X_batch, Y_batch, Y_batch)"
   ]
  },
  {
   "cell_type": "markdown",
   "metadata": {},
   "source": [
    "# Task 5: Create Model"
   ]
  },
  {
   "cell_type": "markdown",
   "metadata": {},
   "source": [
    "A logistic model is simply a multi variable linear equation which gives a binary output. The pixel values of our input images are going to be the input features - the independent variables that form the logistic regression equation. And the class label - either 0 or 1 in our case, is the output y."
   ]
  },
  {
   "cell_type": "markdown",
   "metadata": {},
   "source": [
    "\\begin{equation}\n",
    "z = b + w_1x_1 + w_2x_2 + ... + w_N * x_N\n",
    "\\end{equation}\n",
    "\n",
    "\\begin{equation}\n",
    "y = \\sigma(z)\n",
    "\\end{equation}\n",
    "\n",
    "To simplify, we can use vectorized represenation where X is the feature matrix and W is the weight matrix:\n",
    "\n",
    "\\begin{equation}\n",
    "y = \\sigma(W^T.X + b)\n",
    "\\end{equation}"
   ]
  },
  {
   "cell_type": "code",
   "execution_count": 16,
   "metadata": {},
   "outputs": [
    {
     "name": "stdout",
     "output_type": "stream",
     "text": [
      "=================================\n",
      "Number of features: 784\n",
      "Shape of weights: (784, 1)\n",
      "Shape of biases: (1, 1)\n",
      "=================================\n"
     ]
    }
   ],
   "source": [
    "class LogisticModel:\n",
    "    def __init__(self, num_features):\n",
    "        # Your code here\n",
    "        self.W = np.reshape(np.random.randn((num_features)), (num_features, 1))\n",
    "        self.b = np.zeros((1, 1))\n",
    "        self.num_features = num_features\n",
    "        self.losses = []\n",
    "        self.accuracies = []\n",
    "        \n",
    "    def summary(self):\n",
    "        print('=================================')\n",
    "        print('Number of features:', self.num_features)\n",
    "        print('Shape of weights:', self.W.shape)\n",
    "        print('Shape of biases:', self.b.shape)\n",
    "        print('=================================')\n",
    "        \n",
    "# Your code here\n",
    "model = LogisticModel(num_features=784)\n",
    "model.summary()"
   ]
  },
  {
   "cell_type": "markdown",
   "metadata": {},
   "source": [
    "# Task 5: Forward Pass"
   ]
  },
  {
   "cell_type": "markdown",
   "metadata": {},
   "source": [
    "For a single training example, the loss should be:\n",
    "\n",
    "\\begin{equation}\n",
    "L(y, \\hat{y}) = -(y * log(\\hat{y}) + (1 - y) * log(1 - \\hat{y}))\n",
    "\\end{equation}"
   ]
  },
  {
   "cell_type": "code",
   "execution_count": 23,
   "metadata": {},
   "outputs": [],
   "source": [
    "class LogisticModel(LogisticModel):\n",
    "    def _forward_pass(self, X, Y=None):\n",
    "        # Your code here\n",
    "        batch_size = X.shape[0]\n",
    "        Z = np.dot(X, self.W) + self.b\n",
    "        A = 1./(1. + np.exp(-Z))\n",
    "        loss = float(1e6)\n",
    "        if Y is not None:\n",
    "            loss = -1 * np.sum(np.dot(np.transpose(Y), np.log(A)) + \\\n",
    "                        np.matmul(np.transpose(1-Y), np.log(1-A)))\n",
    "            loss /= batch_size\n",
    "        return A, loss   "
   ]
  },
  {
   "cell_type": "markdown",
   "metadata": {},
   "source": [
    "# Task 6: Backward Pass"
   ]
  },
  {
   "cell_type": "code",
   "execution_count": 37,
   "metadata": {},
   "outputs": [],
   "source": [
    "class LogisticModel(LogisticModel):\n",
    "    def _backward_pass(self, A, X, Y):\n",
    "        # Your code here\n",
    "        batch_size = X.shape[0]\n",
    "        dZ = A - Y\n",
    "        dW = np.dot(np.transpose(X), dZ) / batch_size\n",
    "        db = np.sum(dZ) / batch_size\n",
    "        return dW, db"
   ]
  },
  {
   "cell_type": "markdown",
   "metadata": {},
   "source": [
    "# Task 7: Update Parameters"
   ]
  },
  {
   "cell_type": "code",
   "execution_count": 19,
   "metadata": {},
   "outputs": [],
   "source": [
    "class LogisticModel(LogisticModel):\n",
    "    def _update_params(self, dW, db, lr):\n",
    "        # Your code here\n",
    "        self.W -= lr * dW\n",
    "        self.b -= lr * db"
   ]
  },
  {
   "cell_type": "markdown",
   "metadata": {},
   "source": [
    "# Task 8: Check Model Performance"
   ]
  },
  {
   "cell_type": "code",
   "execution_count": 20,
   "metadata": {},
   "outputs": [],
   "source": [
    "class LogisticModel(LogisticModel):\n",
    "    def predict(self, X, Y=None):\n",
    "        # Your code here\n",
    "        A, loss = self._forward_pass(X, Y)\n",
    "        Y_hat = A > 0.5\n",
    "        return np.squeeze(Y_hat), loss\n",
    "    \n",
    "    def evaluate(self, X, Y):\n",
    "        # Your code here\n",
    "        Y_hat, loss = self.predict(X, Y)\n",
    "        accuracy = np.sum(Y_hat == np.squeeze(Y)) / X.shape[0]\n",
    "        return accuracy, loss"
   ]
  },
  {
   "cell_type": "code",
   "execution_count": 29,
   "metadata": {},
   "outputs": [
    {
     "name": "stdout",
     "output_type": "stream",
     "text": [
      "=================================\n",
      "Number of features: 784\n",
      "Shape of weights: (784, 1)\n",
      "Shape of biases: (1, 1)\n",
      "=================================\n",
      "Untrained model accuracy: 0.8066666666666666, loss: 0.5006083996100089\n"
     ]
    }
   ],
   "source": [
    "model = LogisticModel(784)\n",
    "model.summary()\n",
    "\n",
    "X, Y = helpers.dataset.get_random_batch(X_test, Y_test, batch_size)\n",
    "acc, loss = model.evaluate(X, Y)\n",
    "print('Untrained model accuracy: {}, loss: {}'.format(acc, loss))"
   ]
  },
  {
   "cell_type": "code",
   "execution_count": 31,
   "metadata": {},
   "outputs": [
    {
     "data": {
      "image/png": "[encoded data removed]",
      "text/plain": [
       "<Figure size 576x288 with 10 Axes>"
      ]
     },
     "metadata": {},
     "output_type": "display_data"
    }
   ],
   "source": [
    "preds, _ = model.predict(X)\n",
    "helpers.plt.show_ten_examples(X, Y, preds)"
   ]
  },
  {
   "cell_type": "markdown",
   "metadata": {},
   "source": [
    "# Task 9: Training Loop"
   ]
  },
  {
   "cell_type": "code",
   "execution_count": 40,
   "metadata": {},
   "outputs": [],
   "source": [
    "class LogisticModel(LogisticModel):\n",
    "    def train(self, batch_size, get_batch, lr, iterations, X_train, Y_train, X_test, Y_test):\n",
    "        # Your code here\n",
    "        print(\"Training ....\")\n",
    "        self.accuracies = []\n",
    "        self.losses = []\n",
    "        \n",
    "        for i in range(iterations):\n",
    "            X, Y = get_batch(X_train, Y_train, batch_size)\n",
    "            A, _ = self._forward_pass(X, Y)\n",
    "            dW, db = self._backward_pass(A, X, Y)\n",
    "            self._update_params(dW, db, lr)\n",
    "            \n",
    "            X, Y = get_batch(X_test, Y_test, batch_size)\n",
    "            val_acc, val_loss = self.evaluate(X, Y)\n",
    "            self.accuracies.append(val_acc)\n",
    "            self.losses.append(val_loss)\n",
    "            \n",
    "            print('Iter: {}, Val Acc: {: .3f}, Val Loss: {:.3f}'.format(i, val_acc, val_loss))\n",
    "            \n",
    "        print('Training is finished')       "
   ]
  },
  {
   "cell_type": "markdown",
   "metadata": {},
   "source": [
    "# Task 10: Training the Model"
   ]
  },
  {
   "cell_type": "code",
   "execution_count": 41,
   "metadata": {},
   "outputs": [
    {
     "name": "stdout",
     "output_type": "stream",
     "text": [
      "Before training performance: (0.7766666666666666, 1.0243008937354265)\n",
      "Training ....\n",
      "Iter: 0, Val Acc:  0.777, Val Loss: 0.897\n",
      "Iter: 1, Val Acc:  0.863, Val Loss: 0.525\n",
      "Iter: 2, Val Acc:  0.877, Val Loss: 0.538\n",
      "Iter: 3, Val Acc:  0.880, Val Loss: 0.394\n",
      "Iter: 4, Val Acc:  0.867, Val Loss: 0.416\n",
      "Iter: 5, Val Acc:  0.923, Val Loss: 0.304\n",
      "Iter: 6, Val Acc:  0.890, Val Loss: 0.359\n",
      "Iter: 7, Val Acc:  0.953, Val Loss: 0.107\n",
      "Iter: 8, Val Acc:  0.943, Val Loss: 0.213\n",
      "Iter: 9, Val Acc:  0.953, Val Loss: 0.143\n",
      "Iter: 10, Val Acc:  0.937, Val Loss: 0.140\n",
      "Iter: 11, Val Acc:  0.950, Val Loss: 0.161\n",
      "Iter: 12, Val Acc:  0.930, Val Loss: 0.169\n",
      "Iter: 13, Val Acc:  0.957, Val Loss: 0.147\n",
      "Iter: 14, Val Acc:  0.947, Val Loss: 0.164\n",
      "Iter: 15, Val Acc:  0.983, Val Loss: 0.044\n",
      "Iter: 16, Val Acc:  0.957, Val Loss: 0.139\n",
      "Iter: 17, Val Acc:  0.957, Val Loss: 0.104\n",
      "Iter: 18, Val Acc:  0.963, Val Loss: 0.074\n",
      "Iter: 19, Val Acc:  0.977, Val Loss: 0.072\n",
      "Iter: 20, Val Acc:  0.960, Val Loss: 0.118\n",
      "Iter: 21, Val Acc:  0.973, Val Loss: 0.084\n",
      "Iter: 22, Val Acc:  0.947, Val Loss: 0.172\n",
      "Iter: 23, Val Acc:  0.967, Val Loss: 0.190\n",
      "Iter: 24, Val Acc:  0.960, Val Loss: 0.151\n",
      "Iter: 25, Val Acc:  0.953, Val Loss: 0.121\n",
      "Iter: 26, Val Acc:  0.983, Val Loss: 0.077\n",
      "Iter: 27, Val Acc:  0.973, Val Loss: 0.070\n",
      "Iter: 28, Val Acc:  0.970, Val Loss: 0.104\n",
      "Iter: 29, Val Acc:  0.980, Val Loss: 0.044\n",
      "Iter: 30, Val Acc:  0.953, Val Loss: 0.089\n",
      "Iter: 31, Val Acc:  0.973, Val Loss: 0.051\n",
      "Iter: 32, Val Acc:  0.980, Val Loss: 0.067\n",
      "Iter: 33, Val Acc:  0.970, Val Loss: 0.078\n",
      "Iter: 34, Val Acc:  0.980, Val Loss: 0.038\n",
      "Iter: 35, Val Acc:  0.977, Val Loss: 0.064\n",
      "Iter: 36, Val Acc:  0.977, Val Loss: 0.051\n",
      "Iter: 37, Val Acc:  0.987, Val Loss: 0.060\n",
      "Iter: 38, Val Acc:  0.993, Val Loss: 0.022\n",
      "Iter: 39, Val Acc:  0.977, Val Loss: 0.124\n",
      "Training is finished\n",
      "After training performance: (0.99, 0.03739246395014267)\n"
     ]
    }
   ],
   "source": [
    "model = LogisticModel(784)\n",
    "\n",
    "X, Y = helpers.dataset.get_random_batch(X_test, Y_test, batch_size)\n",
    "print('Before training performance:', model.evaluate(X, Y))\n",
    "\n",
    "model.train(\n",
    "    batch_size, \n",
    "    helpers.dataset.get_random_batch, \n",
    "    lr, \n",
    "    iterations, \n",
    "    X_train, \n",
    "    Y_train, \n",
    "    X_test, \n",
    "    Y_test\n",
    "    \n",
    ")\n",
    "\n",
    "print('After training performance:', model.evaluate(X, Y))\n"
   ]
  },
  {
   "cell_type": "markdown",
   "metadata": {},
   "source": [
    "# Task 11: Display the Results"
   ]
  },
  {
   "cell_type": "code",
   "execution_count": 42,
   "metadata": {},
   "outputs": [
    {
     "data": {
      "image/png": "[encoded data removed]",
      "text/plain": [
       "<Figure size 864x288 with 2 Axes>"
      ]
     },
     "metadata": {
      "needs_background": "light"
     },
     "output_type": "display_data"
    }
   ],
   "source": [
    "helpers.plt.plot_metrics(model)"
   ]
  },
  {
   "cell_type": "code",
   "execution_count": 43,
   "metadata": {},
   "outputs": [
    {
     "data": {
      "image/png": "[encoded data removed]",
      "text/plain": [
       "<Figure size 576x288 with 10 Axes>"
      ]
     },
     "metadata": {},
     "output_type": "display_data"
    }
   ],
   "source": [
    "preds, _ = model.predict(X, Y)\n",
    "helpers.plt.show_ten_examples(X, Y, preds)"
   ]
  },
  {
   "cell_type": "code",
   "execution_count": null,
   "metadata": {},
   "outputs": [],
   "source": []
  }
 ],
 "metadata": {
  "kernelspec": {
   "display_name": "Python 3",
   "language": "python",
   "name": "python3"
  },
  "language_info": {
   "codemirror_mode": {
    "name": "ipython",
    "version": 3
   },
   "file_extension": ".py",
   "mimetype": "text/x-python",
   "name": "python",
   "nbconvert_exporter": "python",
   "pygments_lexer": "ipython3",
   "version": "3.7.4"
  }
 },
 "nbformat": 4,
 "nbformat_minor": 2
}
